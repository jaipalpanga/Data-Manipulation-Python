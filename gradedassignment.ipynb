{
 "cells": [
  {
   "cell_type": "code",
   "execution_count": 1,
   "metadata": {},
   "outputs": [],
   "source": [
    "import pandas as pd\n",
    "import numpy as np\n",
    "import os"
   ]
  },
  {
   "cell_type": "code",
   "execution_count": null,
   "metadata": {},
   "outputs": [],
   "source": [
    "os.getcwd()"
   ]
  },
  {
   "cell_type": "code",
   "execution_count": 77,
   "metadata": {},
   "outputs": [],
   "source": [
    "#To read the data from a csv file\n",
    "stack=pd.read_csv(\"stackoverflow.csv\",sep=\",\",header=0)"
   ]
  },
  {
   "cell_type": "code",
   "execution_count": 38,
   "metadata": {},
   "outputs": [
    {
     "data": {
      "text/html": [
       "<div>\n",
       "<style scoped>\n",
       "    .dataframe tbody tr th:only-of-type {\n",
       "        vertical-align: middle;\n",
       "    }\n",
       "\n",
       "    .dataframe tbody tr th {\n",
       "        vertical-align: top;\n",
       "    }\n",
       "\n",
       "    .dataframe thead th {\n",
       "        text-align: right;\n",
       "    }\n",
       "</style>\n",
       "<table border=\"1\" class=\"dataframe\">\n",
       "  <thead>\n",
       "    <tr style=\"text-align: right;\">\n",
       "      <th></th>\n",
       "      <th>RespondentID</th>\n",
       "      <th>Country</th>\n",
       "      <th>Salary</th>\n",
       "      <th>YearsCodedJob</th>\n",
       "      <th>OpenSource</th>\n",
       "      <th>Hobby</th>\n",
       "      <th>CompanySizeNumber</th>\n",
       "      <th>Remote</th>\n",
       "      <th>CareerSatisfaction</th>\n",
       "      <th>Datascientist</th>\n",
       "      <th>...</th>\n",
       "      <th>DevOps</th>\n",
       "      <th>Embedded developer</th>\n",
       "      <th>Graphic designer</th>\n",
       "      <th>Graphics programming</th>\n",
       "      <th>Machine learning specialist</th>\n",
       "      <th>Mobile developer</th>\n",
       "      <th>Quality assurance engineer</th>\n",
       "      <th>Systems administrator</th>\n",
       "      <th>Web developer</th>\n",
       "      <th></th>\n",
       "    </tr>\n",
       "  </thead>\n",
       "  <tbody>\n",
       "    <tr>\n",
       "      <th>0</th>\n",
       "      <td>3</td>\n",
       "      <td>United Kingdom</td>\n",
       "      <td>113750.0</td>\n",
       "      <td>20</td>\n",
       "      <td>1</td>\n",
       "      <td>1</td>\n",
       "      <td>10000.0</td>\n",
       "      <td>Not remote</td>\n",
       "      <td>8</td>\n",
       "      <td>0</td>\n",
       "      <td>...</td>\n",
       "      <td>0</td>\n",
       "      <td>0</td>\n",
       "      <td>0</td>\n",
       "      <td>0</td>\n",
       "      <td>0</td>\n",
       "      <td>0</td>\n",
       "      <td>0</td>\n",
       "      <td>0</td>\n",
       "      <td>0</td>\n",
       "      <td>NaN</td>\n",
       "    </tr>\n",
       "    <tr>\n",
       "      <th>1</th>\n",
       "      <td>15</td>\n",
       "      <td>United Kingdom</td>\n",
       "      <td>100000.0</td>\n",
       "      <td>20</td>\n",
       "      <td>0</td>\n",
       "      <td>1</td>\n",
       "      <td>5000.0</td>\n",
       "      <td>Remote</td>\n",
       "      <td>8</td>\n",
       "      <td>0</td>\n",
       "      <td>...</td>\n",
       "      <td>0</td>\n",
       "      <td>1</td>\n",
       "      <td>0</td>\n",
       "      <td>0</td>\n",
       "      <td>0</td>\n",
       "      <td>0</td>\n",
       "      <td>0</td>\n",
       "      <td>0</td>\n",
       "      <td>0</td>\n",
       "      <td>NaN</td>\n",
       "    </tr>\n",
       "    <tr>\n",
       "      <th>2</th>\n",
       "      <td>18</td>\n",
       "      <td>United States</td>\n",
       "      <td>130000.0</td>\n",
       "      <td>20</td>\n",
       "      <td>1</td>\n",
       "      <td>1</td>\n",
       "      <td>1000.0</td>\n",
       "      <td>Remote</td>\n",
       "      <td>9</td>\n",
       "      <td>0</td>\n",
       "      <td>...</td>\n",
       "      <td>1</td>\n",
       "      <td>1</td>\n",
       "      <td>0</td>\n",
       "      <td>0</td>\n",
       "      <td>0</td>\n",
       "      <td>0</td>\n",
       "      <td>1</td>\n",
       "      <td>0</td>\n",
       "      <td>1</td>\n",
       "      <td>NaN</td>\n",
       "    </tr>\n",
       "    <tr>\n",
       "      <th>3</th>\n",
       "      <td>19</td>\n",
       "      <td>United States</td>\n",
       "      <td>82500.0</td>\n",
       "      <td>3</td>\n",
       "      <td>0</td>\n",
       "      <td>1</td>\n",
       "      <td>10000.0</td>\n",
       "      <td>Not remote</td>\n",
       "      <td>5</td>\n",
       "      <td>0</td>\n",
       "      <td>...</td>\n",
       "      <td>0</td>\n",
       "      <td>0</td>\n",
       "      <td>0</td>\n",
       "      <td>0</td>\n",
       "      <td>0</td>\n",
       "      <td>0</td>\n",
       "      <td>0</td>\n",
       "      <td>0</td>\n",
       "      <td>1</td>\n",
       "      <td>NaN</td>\n",
       "    </tr>\n",
       "    <tr>\n",
       "      <th>4</th>\n",
       "      <td>26</td>\n",
       "      <td>United States</td>\n",
       "      <td>175000.0</td>\n",
       "      <td>16</td>\n",
       "      <td>0</td>\n",
       "      <td>1</td>\n",
       "      <td>10000.0</td>\n",
       "      <td>Not remote</td>\n",
       "      <td>7</td>\n",
       "      <td>0</td>\n",
       "      <td>...</td>\n",
       "      <td>0</td>\n",
       "      <td>0</td>\n",
       "      <td>0</td>\n",
       "      <td>0</td>\n",
       "      <td>0</td>\n",
       "      <td>0</td>\n",
       "      <td>0</td>\n",
       "      <td>0</td>\n",
       "      <td>1</td>\n",
       "      <td>NaN</td>\n",
       "    </tr>\n",
       "  </tbody>\n",
       "</table>\n",
       "<p>5 rows × 23 columns</p>\n",
       "</div>"
      ],
      "text/plain": [
       "   RespondentID         Country    Salary  YearsCodedJob  OpenSource  Hobby  \\\n",
       "0             3  United Kingdom  113750.0             20           1      1   \n",
       "1            15  United Kingdom  100000.0             20           0      1   \n",
       "2            18   United States  130000.0             20           1      1   \n",
       "3            19   United States   82500.0              3           0      1   \n",
       "4            26   United States  175000.0             16           0      1   \n",
       "\n",
       "   CompanySizeNumber      Remote  CareerSatisfaction  Datascientist  ...   \\\n",
       "0            10000.0  Not remote                   8              0  ...    \n",
       "1             5000.0      Remote                   8              0  ...    \n",
       "2             1000.0      Remote                   9              0  ...    \n",
       "3            10000.0  Not remote                   5              0  ...    \n",
       "4            10000.0  Not remote                   7              0  ...    \n",
       "\n",
       "   DevOps  Embedded developer  Graphic designer  Graphics programming  \\\n",
       "0       0                   0                 0                     0   \n",
       "1       0                   1                 0                     0   \n",
       "2       1                   1                 0                     0   \n",
       "3       0                   0                 0                     0   \n",
       "4       0                   0                 0                     0   \n",
       "\n",
       "   Machine learning specialist  Mobile developer  Quality assurance engineer  \\\n",
       "0                            0                 0                           0   \n",
       "1                            0                 0                           0   \n",
       "2                            0                 0                           1   \n",
       "3                            0                 0                           0   \n",
       "4                            0                 0                           0   \n",
       "\n",
       "   Systems administrator  Web developer        \n",
       "0                      0              0   NaN  \n",
       "1                      0              0   NaN  \n",
       "2                      0              1   NaN  \n",
       "3                      0              1   NaN  \n",
       "4                      0              1   NaN  \n",
       "\n",
       "[5 rows x 23 columns]"
      ]
     },
     "execution_count": 38,
     "metadata": {},
     "output_type": "execute_result"
    }
   ],
   "source": [
    "#Fetch the top rows to check the data in the file\n",
    "#To do basic check on the data to understand its contests\n",
    "stack.head()"
   ]
  },
  {
   "cell_type": "code",
   "execution_count": 11,
   "metadata": {},
   "outputs": [
    {
     "data": {
      "text/plain": [
       "(6991, 23)"
      ]
     },
     "execution_count": 11,
     "metadata": {},
     "output_type": "execute_result"
    }
   ],
   "source": [
    "#Check the dimension\n",
    "stack.shape"
   ]
  },
  {
   "cell_type": "code",
   "execution_count": 12,
   "metadata": {},
   "outputs": [
    {
     "data": {
      "text/plain": [
       "RespondentID                               0\n",
       "Country                                    0\n",
       "Salary                                     0\n",
       "YearsCodedJob                              0\n",
       "OpenSource                                 0\n",
       "Hobby                                      0\n",
       "CompanySizeNumber                         31\n",
       "Remote                                     0\n",
       "CareerSatisfaction                         0\n",
       "Datascientist                              0\n",
       "Database administrator                     0\n",
       "Desktop applications developer             0\n",
       "Developer with stats/math background       0\n",
       "DevOps                                     0\n",
       "Embedded developer                         0\n",
       "Graphic designer                           0\n",
       "Graphics programming                       0\n",
       "Machine learning specialist                0\n",
       "Mobile developer                           0\n",
       "Quality assurance engineer                 0\n",
       "Systems administrator                      0\n",
       "Web developer                              0\n",
       "                                        6991\n",
       "dtype: int64"
      ]
     },
     "execution_count": 12,
     "metadata": {},
     "output_type": "execute_result"
    }
   ],
   "source": [
    "#Verification of the Null values in the columns\n",
    "stack.isnull().sum()"
   ]
  },
  {
   "cell_type": "code",
   "execution_count": 13,
   "metadata": {},
   "outputs": [
    {
     "data": {
      "text/plain": [
       "array(['United Kingdom', 'United States', 'Germany', 'India', 'Canada'],\n",
       "      dtype=object)"
      ]
     },
     "execution_count": 13,
     "metadata": {},
     "output_type": "execute_result"
    }
   ],
   "source": [
    "#Find the different countries in the dataset\n",
    "stack['Country'].unique()"
   ]
  },
  {
   "cell_type": "code",
   "execution_count": 14,
   "metadata": {},
   "outputs": [
    {
     "data": {
      "text/plain": [
       "43"
      ]
     },
     "execution_count": 14,
     "metadata": {},
     "output_type": "execute_result"
    }
   ],
   "source": [
    "#Find the count of employees who are datascientist and are Indians\n",
    "stack.query(\"Country=='India' & Datascientist==1\").shape[0]"
   ]
  },
  {
   "cell_type": "code",
   "execution_count": 16,
   "metadata": {},
   "outputs": [
    {
     "data": {
      "text/plain": [
       "718"
      ]
     },
     "execution_count": 16,
     "metadata": {},
     "output_type": "execute_result"
    }
   ],
   "source": [
    "#Find the count of employees who work in remote areas\n",
    "stack.query(\"Remote=='Remote'\").shape[0]"
   ]
  },
  {
   "cell_type": "code",
   "execution_count": 17,
   "metadata": {},
   "outputs": [
    {
     "data": {
      "text/plain": [
       "181"
      ]
     },
     "execution_count": 17,
     "metadata": {},
     "output_type": "execute_result"
    }
   ],
   "source": [
    "#Find the number of Germans who have more than 10 years of experience \n",
    "stack.query(\"Country=='Germany' & YearsCodedJob>10\").shape[0]"
   ]
  },
  {
   "cell_type": "code",
   "execution_count": 39,
   "metadata": {},
   "outputs": [
    {
     "data": {
      "text/plain": [
       "Country\n",
       "United States     98313.127654\n",
       "Canada            58226.407451\n",
       "United Kingdom    53962.871808\n",
       "Germany           52405.823429\n",
       "India             11557.674529\n",
       "Name: Salary, dtype: float64"
      ]
     },
     "execution_count": 39,
     "metadata": {},
     "output_type": "execute_result"
    }
   ],
   "source": [
    "#To find the which country employees have the maximum average salary\n",
    "stgrp=stack.groupby('Country')['Salary'].mean().sort_values(ascending=False)\n",
    "stgrp\n",
    "#Employees from US gets more salary\n",
    "#Indian employees get the least salary"
   ]
  },
  {
   "cell_type": "code",
   "execution_count": 78,
   "metadata": {},
   "outputs": [
    {
     "data": {
      "text/plain": [
       "Country\n",
       "United States     3486\n",
       "United Kingdom    1270\n",
       "Germany            950\n",
       "India              666\n",
       "Canada             619\n",
       "Name: newrem, dtype: int64"
      ]
     },
     "execution_count": 78,
     "metadata": {},
     "output_type": "execute_result"
    }
   ],
   "source": [
    "#To get which country has the least number of workers working in remote \n",
    "#Flag the remore column where 1 indicates Remote and 0 indicates Not remote\n",
    "stack['newrem'] = np.where(stack['Remote']=='Remote', 1, 0)\n",
    "stack.head()\n",
    "stack.groupby('Country')['newrem'].count().sort_values(ascending=False)\n",
    "#Unites States has more number of employees in remote \n",
    "#Canada has less numner of employees working in remote"
   ]
  },
  {
   "cell_type": "code",
   "execution_count": 41,
   "metadata": {},
   "outputs": [
    {
     "data": {
      "text/plain": [
       "Mobile developer\n",
       "0    5635\n",
       "1    1356\n",
       "Name: Mobile developer, dtype: int64"
      ]
     },
     "execution_count": 41,
     "metadata": {},
     "output_type": "execute_result"
    }
   ],
   "source": [
    "#To find the percentage of Mobile Developers in the data\n",
    "stackmob=stack.groupby('Mobile developer')['Mobile developer'].count()\n",
    "stackmob"
   ]
  },
  {
   "cell_type": "code",
   "execution_count": 42,
   "metadata": {},
   "outputs": [
    {
     "data": {
      "text/plain": [
       "0.19396366757259334"
      ]
     },
     "execution_count": 42,
     "metadata": {},
     "output_type": "execute_result"
    }
   ],
   "source": [
    "1356/(5635+1356)\n",
    "#19% of employees are Mobile Developers"
   ]
  },
  {
   "cell_type": "code",
   "execution_count": 43,
   "metadata": {},
   "outputs": [
    {
     "data": {
      "text/plain": [
       "Web developer\n",
       "0    1929\n",
       "1    5062\n",
       "Name: Web developer, dtype: int64"
      ]
     },
     "execution_count": 43,
     "metadata": {},
     "output_type": "execute_result"
    }
   ],
   "source": [
    "#To find the percentage of Web developers in the data\n",
    "stackweb=stack.groupby('Web developer')['Web developer'].count()\n",
    "stackweb"
   ]
  },
  {
   "cell_type": "code",
   "execution_count": 35,
   "metadata": {},
   "outputs": [
    {
     "data": {
      "text/plain": [
       "0.7240738091832356"
      ]
     },
     "execution_count": 35,
     "metadata": {},
     "output_type": "execute_result"
    }
   ],
   "source": [
    "#72% of employees are web developers\n",
    "5062/(1929+5062)"
   ]
  },
  {
   "cell_type": "code",
   "execution_count": 51,
   "metadata": {},
   "outputs": [
    {
     "data": {
      "text/plain": [
       "115"
      ]
     },
     "execution_count": 51,
     "metadata": {},
     "output_type": "execute_result"
    }
   ],
   "source": [
    "#Total number of employees who are mobile developers and web developers and are working in remote \n",
    "stack.loc[(stack[\"Mobile developer\"]==1) & (stack[\"Web developer\"]==1) & (stack[\"newrem\"]==1),:].shape[0]"
   ]
  },
  {
   "cell_type": "code",
   "execution_count": 52,
   "metadata": {},
   "outputs": [
    {
     "data": {
      "text/html": [
       "<div>\n",
       "<style scoped>\n",
       "    .dataframe tbody tr th:only-of-type {\n",
       "        vertical-align: middle;\n",
       "    }\n",
       "\n",
       "    .dataframe tbody tr th {\n",
       "        vertical-align: top;\n",
       "    }\n",
       "\n",
       "    .dataframe thead th {\n",
       "        text-align: right;\n",
       "    }\n",
       "</style>\n",
       "<table border=\"1\" class=\"dataframe\">\n",
       "  <thead>\n",
       "    <tr style=\"text-align: right;\">\n",
       "      <th></th>\n",
       "      <th>Salary</th>\n",
       "      <th>YearsCodedJob</th>\n",
       "    </tr>\n",
       "    <tr>\n",
       "      <th>Country</th>\n",
       "      <th></th>\n",
       "      <th></th>\n",
       "    </tr>\n",
       "  </thead>\n",
       "  <tbody>\n",
       "    <tr>\n",
       "      <th>United States</th>\n",
       "      <td>197000.0000</td>\n",
       "      <td>8.397877</td>\n",
       "    </tr>\n",
       "    <tr>\n",
       "      <th>United Kingdom</th>\n",
       "      <td>193750.0000</td>\n",
       "      <td>7.315748</td>\n",
       "    </tr>\n",
       "    <tr>\n",
       "      <th>India</th>\n",
       "      <td>163134.7967</td>\n",
       "      <td>3.696697</td>\n",
       "    </tr>\n",
       "    <tr>\n",
       "      <th>Canada</th>\n",
       "      <td>151515.1515</td>\n",
       "      <td>7.523425</td>\n",
       "    </tr>\n",
       "    <tr>\n",
       "      <th>Germany</th>\n",
       "      <td>140000.0000</td>\n",
       "      <td>7.058947</td>\n",
       "    </tr>\n",
       "  </tbody>\n",
       "</table>\n",
       "</div>"
      ],
      "text/plain": [
       "                     Salary  YearsCodedJob\n",
       "Country                                   \n",
       "United States   197000.0000       8.397877\n",
       "United Kingdom  193750.0000       7.315748\n",
       "India           163134.7967       3.696697\n",
       "Canada          151515.1515       7.523425\n",
       "Germany         140000.0000       7.058947"
      ]
     },
     "execution_count": 52,
     "metadata": {},
     "output_type": "execute_result"
    }
   ],
   "source": [
    "#Calculate the Salary of employees across countries and the years of experience\n",
    "stack.groupby('Country').agg({'Salary':np.max,'YearsCodedJob':np.mean}).sort_values(\"Salary\",ascending=False)"
   ]
  },
  {
   "cell_type": "code",
   "execution_count": 53,
   "metadata": {},
   "outputs": [],
   "source": [
    "#Defining a function to group the data into 3 categories based on salary of the employees\n",
    "def get_label(x):\n",
    "    if x<20 :\n",
    "        return 'low'\n",
    "    elif x>=20 and x=<1000:\n",
    "        return 'medium'\n",
    "    else:\n",
    "        return 'high'   \n"
   ]
  },
  {
   "cell_type": "code",
   "execution_count": 57,
   "metadata": {},
   "outputs": [],
   "source": [
    "#Mapping the functions to create label\n",
    "stack['label']=stack['CompanySizeNumber'].map(get_label)"
   ]
  },
  {
   "cell_type": "code",
   "execution_count": 58,
   "metadata": {},
   "outputs": [
    {
     "data": {
      "text/plain": [
       "label\n",
       "high      2294\n",
       "low       1156\n",
       "medium    3541\n",
       "Name: label, dtype: int64"
      ]
     },
     "execution_count": 58,
     "metadata": {},
     "output_type": "execute_result"
    }
   ],
   "source": [
    "#Splitting the employees based on their salary slab\n",
    "stack.groupby('label')['label'].count()"
   ]
  },
  {
   "cell_type": "code",
   "execution_count": 80,
   "metadata": {},
   "outputs": [
    {
     "data": {
      "text/plain": [
       "1129"
      ]
     },
     "execution_count": 80,
     "metadata": {},
     "output_type": "execute_result"
    }
   ],
   "source": [
    "#Finding the number of employees who are Datascientist or Machine learning specialist or Developer with stats/math background\n",
    "stack.loc[(stack[\"Developer with stats/math background\"]==1) | (stack[\"Datascientist\"]==1) | (stack[\"Machine learning specialist\"]==1),:].shape[0]"
   ]
  }
 ],
 "metadata": {
  "kernelspec": {
   "display_name": "Python 3",
   "language": "python",
   "name": "python3"
  },
  "language_info": {
   "codemirror_mode": {
    "name": "ipython",
    "version": 3
   },
   "file_extension": ".py",
   "mimetype": "text/x-python",
   "name": "python",
   "nbconvert_exporter": "python",
   "pygments_lexer": "ipython3",
   "version": "3.6.5"
  }
 },
 "nbformat": 4,
 "nbformat_minor": 2
}
